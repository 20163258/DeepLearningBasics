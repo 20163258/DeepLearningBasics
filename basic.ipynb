{
  "nbformat": 4,
  "nbformat_minor": 0,
  "metadata": {
    "colab": {
      "name": "basic.ipynb",
      "provenance": [],
      "collapsed_sections": [],
      "authorship_tag": "ABX9TyPEsjfS/BKci16pi+CkpuND",
      "include_colab_link": true
    },
    "kernelspec": {
      "name": "python3",
      "display_name": "Python 3"
    }
  },
  "cells": [
    {
      "cell_type": "markdown",
      "metadata": {
        "id": "view-in-github",
        "colab_type": "text"
      },
      "source": [
        "<a href=\"https://colab.research.google.com/github/jeonggunlee/DeepLearningBasics/blob/master/basic.ipynb\" target=\"_parent\"><img src=\"https://colab.research.google.com/assets/colab-badge.svg\" alt=\"Open In Colab\"/></a>"
      ]
    },
    {
      "cell_type": "markdown",
      "metadata": {
        "id": "h0_yn8_WUwsI",
        "colab_type": "text"
      },
      "source": [
        "초간단 뉴런 ~"
      ]
    },
    {
      "cell_type": "code",
      "metadata": {
        "id": "7vwBVWY6Uee3",
        "colab_type": "code",
        "colab": {
          "base_uri": "https://localhost:8080/",
          "height": 34
        },
        "outputId": "1c982220-a933-4a2c-afab-f5c9ef82126a"
      },
      "source": [
        "def neuron (x1, x2, x3, x4):\n",
        "  w0 = 1\n",
        "  w1 = 2\n",
        "  w2 = 3\n",
        "  w3 = 4\n",
        "  w4 = 5\n",
        "  output_temp = 1*w0 + x1*w1 + x2*w2 + x3*w3 + x4*w4\n",
        "  if output_temp > 0 :\n",
        "    output = 1\n",
        "  else:\n",
        "    output = 0\n",
        "\n",
        "  return  output\n",
        "\n",
        "\n",
        "print(neuron(1, 2, 3, 4))\n"
      ],
      "execution_count": 12,
      "outputs": [
        {
          "output_type": "stream",
          "text": [
            "1\n"
          ],
          "name": "stdout"
        }
      ]
    },
    {
      "cell_type": "markdown",
      "metadata": {
        "id": "d_JfpKbAV2ML",
        "colab_type": "text"
      },
      "source": [
        "활성화 함수 그리기"
      ]
    },
    {
      "cell_type": "code",
      "metadata": {
        "id": "lPRE24j5V5e3",
        "colab_type": "code",
        "colab": {
          "base_uri": "https://localhost:8080/",
          "height": 279
        },
        "outputId": "98f5081f-1b8d-45a5-cb54-d299c96e53ea"
      },
      "source": [
        "# Import matplotlib, numpy and math \n",
        "import matplotlib.pyplot as plt \n",
        "import numpy as np \n",
        "import math \n",
        "\n",
        "x = np.linspace(-10, 10, 100) \n",
        "#z = 1/(1 + np.exp(-x)) \n",
        "#z = np.tanh(x)\n",
        "z = np.maximum(0,x)\n",
        "\n",
        "plt.plot(x, z) \n",
        "plt.xlabel(\"x\") \n",
        "plt.ylabel(\"Sigmoid(X)\") \n",
        "\n",
        "plt.show() "
      ],
      "execution_count": 21,
      "outputs": [
        {
          "output_type": "display_data",
          "data": {
            "image/png": "[encoded data removed]",
            "text/plain": [
              "<Figure size 432x288 with 1 Axes>"
            ]
          },
          "metadata": {
            "tags": [],
            "needs_background": "light"
          }
        }
      ]
    },
    {
      "cell_type": "code",
      "metadata": {
        "id": "XSGOGm1lWz8n",
        "colab_type": "code",
        "colab": {}
      },
      "source": [
        ""
      ],
      "execution_count": null,
      "outputs": []
    }
  ]
}