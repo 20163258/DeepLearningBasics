{
  "nbformat": 4,
  "nbformat_minor": 0,
  "metadata": {
    "colab": {
      "name": "04-classifying-movie-reviews.ipynb",
      "provenance": [],
      "collapsed_sections": [],
      "include_colab_link": true
    },
    "language_info": {
      "codemirror_mode": {
        "name": "ipython",
        "version": 3
      },
      "file_extension": ".py",
      "mimetype": "text/x-python",
      "name": "python",
      "nbconvert_exporter": "python",
      "pygments_lexer": "ipython3",
      "version": "3.6.6"
    },
    "kernelspec": {
      "name": "python3",
      "display_name": "Python 3"
    },
    "accelerator": "GPU"
  },
  "cells": [
    {
      "cell_type": "markdown",
      "metadata": {
        "id": "view-in-github",
        "colab_type": "text"
      },
      "source": [
        "<a href=\"https://colab.research.google.com/github/jeonggunlee/DeepLearningBasics/blob/master/Lab05_classifying_movie_reviews.ipynb\" target=\"_parent\"><img src=\"https://colab.research.google.com/assets/colab-badge.svg\" alt=\"Open In Colab\"/></a>"
      ]
    },
    {
      "cell_type": "markdown",
      "metadata": {
        "id": "fxPd_GitEP9E",
        "colab_type": "text"
      },
      "source": [
        "###한림대학교 소프트웨어 융합 대학 \n",
        "##Keras를 활용한 딥러닝 기초 (2020년 8월 5일)\n",
        "\n",
        "이정근 교수\n",
        "\n",
        "   - Homepage: http://www.onchip.net\n",
        "   - Email: jeonggun.lee@hallym.ac.kr / jeonggun.lee@gmail.com \n",
        "\n",
        "\n",
        "---\n",
        "## IMDB 리뷰 감성 분류하기\n",
        "\n",
        "imdb의 데이터 로딩 화일이 이전 버전의 numpy를 활용하기 때문에, 이전 numpy 버전(1.16.2)을 새롭게 설치해야 합니다.\n",
        "\n",
        "이를 위하여 다음 명령어를 수행\n",
        "\n",
        "**!pip install numpy==1.16.2**\n"
      ]
    },
    {
      "cell_type": "code",
      "metadata": {
        "id": "QQf9Il94EPrm",
        "colab_type": "code",
        "colab": {
          "base_uri": "https://localhost:8080/",
          "height": 320
        },
        "outputId": "4b8bde6f-d7cf-4703-a7e5-2b770ce845d0"
      },
      "source": [
        "!pip install numpy==1.16.2"
      ],
      "execution_count": 1,
      "outputs": [
        {
          "output_type": "stream",
          "text": [
            "Collecting numpy==1.16.2\n",
            "\u001b[?25l  Downloading https://files.pythonhosted.org/packages/35/d5/4f8410ac303e690144f0a0603c4b8fd3b986feb2749c435f7cdbb288f17e/numpy-1.16.2-cp36-cp36m-manylinux1_x86_64.whl (17.3MB)\n",
            "\u001b[K     |████████████████████████████████| 17.3MB 198kB/s \n",
            "\u001b[31mERROR: umap-learn 0.4.6 has requirement numpy>=1.17, but you'll have numpy 1.16.2 which is incompatible.\u001b[0m\n",
            "\u001b[31mERROR: datascience 0.10.6 has requirement folium==0.2.1, but you'll have folium 0.8.3 which is incompatible.\u001b[0m\n",
            "\u001b[31mERROR: albumentations 0.1.12 has requirement imgaug<0.2.7,>=0.2.5, but you'll have imgaug 0.2.9 which is incompatible.\u001b[0m\n",
            "\u001b[?25hInstalling collected packages: numpy\n",
            "  Found existing installation: numpy 1.18.5\n",
            "    Uninstalling numpy-1.18.5:\n",
            "      Successfully uninstalled numpy-1.18.5\n",
            "Successfully installed numpy-1.16.2\n"
          ],
          "name": "stdout"
        },
        {
          "output_type": "display_data",
          "data": {
            "application/vnd.colab-display-data+json": {
              "pip_warning": {
                "packages": [
                  "numpy"
                ]
              }
            }
          },
          "metadata": {
            "tags": []
          }
        }
      ]
    },
    {
      "cell_type": "code",
      "metadata": {
        "id": "0h4XpDobECSZ",
        "colab_type": "code",
        "colab": {}
      },
      "source": [
        "import keras\n",
        "keras.__version__"
      ],
      "execution_count": null,
      "outputs": []
    },
    {
      "cell_type": "markdown",
      "metadata": {
        "id": "THe9NBvLEhIk",
        "colab_type": "text"
      },
      "source": [
        "참고 사이트\n",
        "\n",
        "   - https://github.com/rickiepark/deep-learning-with-python-notebooks\n",
        "   - 원작자: François Chollet, https://github.com/fchollet\n",
        "   - 한글화: Haesun Park (rickiepark) https://github.com/rickiepark\n",
        "---"
      ]
    },
    {
      "cell_type": "markdown",
      "metadata": {
        "id": "9BFFhbm_ECSh",
        "colab_type": "text"
      },
      "source": [
        "# 영화 리뷰 분류: 이진 분류 예제\n",
        "\n",
        "이진 분류 (binary classification)는 아마도 가장 널리 적용된 머신 러닝 문제일 것입니다. 이 예제에서 리뷰 텍스트를 기반으로 영화 리뷰를 긍정 (positive)과 부정(negative)로 분류하는 법을 배우겠습니다."
      ]
    },
    {
      "cell_type": "markdown",
      "metadata": {
        "id": "xcXwwGXnECSi",
        "colab_type": "text"
      },
      "source": [
        "## IMDB 데이터셋\n",
        "\n",
        "- 인터넷 영화 데이터베이스 (Internet Movie Database, IMDB)\n",
        "- 양극단의 리뷰 50,000개로 이루어진 IMDB 데이터셋을 사용\n",
        "- 데이터셋은 훈련 데이터 25,000개와 테스트 데이터 25,000개로 구성\n",
        "   - 각각 50%는 부정, 50%는 긍정 리뷰로 구성\n",
        "\n",
        "- IMDB 데이터셋도 케라스에 포함\n",
        " ```python\n",
        "  from keras.datasets import imdb\n",
        "  ```\n",
        "- 데이터는 전처리되어 있어 각 리뷰(단어 시퀀스)가 숫자 시퀀스로 변환되어 있음\n",
        "   - 각 숫자는 사전에 있는 고유한 단어를 나타냅니다."
      ]
    },
    {
      "cell_type": "code",
      "metadata": {
        "id": "1QrzWZ2_ECSj",
        "colab_type": "code",
        "colab": {}
      },
      "source": [
        "from keras.datasets import imdb\n",
        "\n",
        "(train_data, train_labels), (test_data, test_labels) = imdb.load_data(num_words=10000)"
      ],
      "execution_count": 22,
      "outputs": []
    },
    {
      "cell_type": "markdown",
      "metadata": {
        "id": "eesTEuVZECSl",
        "colab_type": "text"
      },
      "source": [
        "- `num_words=10000`은 데이터에서 가장 자주 나타나는 단어 10,000개만 사용함을 의미\n",
        "- 변수 `train_data`와 `test_data`는 리뷰의 목록\n",
        "- 각 리뷰는 단어 인덱스의 리스트(단어 시퀀스가 인코딩된 것)\n",
        "-  `train_labels`와 `test_labels`는 부정을 나타내는 0과 긍정을 나타내는 1의 리스트"
      ]
    },
    {
      "cell_type": "code",
      "metadata": {
        "id": "OGHQjs11ECSn",
        "colab_type": "code",
        "colab": {
          "base_uri": "https://localhost:8080/",
          "height": 1000
        },
        "outputId": "e642ada3-12f6-4920-ff82-fee300fb4385"
      },
      "source": [
        "train_data[0]"
      ],
      "execution_count": 23,
      "outputs": [
        {
          "output_type": "execute_result",
          "data": {
            "text/plain": [
              "[1,\n",
              " 14,\n",
              " 22,\n",
              " 16,\n",
              " 43,\n",
              " 530,\n",
              " 973,\n",
              " 1622,\n",
              " 1385,\n",
              " 65,\n",
              " 458,\n",
              " 4468,\n",
              " 66,\n",
              " 3941,\n",
              " 4,\n",
              " 173,\n",
              " 36,\n",
              " 256,\n",
              " 5,\n",
              " 25,\n",
              " 100,\n",
              " 43,\n",
              " 838,\n",
              " 112,\n",
              " 50,\n",
              " 670,\n",
              " 2,\n",
              " 9,\n",
              " 35,\n",
              " 480,\n",
              " 284,\n",
              " 5,\n",
              " 150,\n",
              " 4,\n",
              " 172,\n",
              " 112,\n",
              " 167,\n",
              " 2,\n",
              " 336,\n",
              " 385,\n",
              " 39,\n",
              " 4,\n",
              " 172,\n",
              " 4536,\n",
              " 1111,\n",
              " 17,\n",
              " 546,\n",
              " 38,\n",
              " 13,\n",
              " 447,\n",
              " 4,\n",
              " 192,\n",
              " 50,\n",
              " 16,\n",
              " 6,\n",
              " 147,\n",
              " 2025,\n",
              " 19,\n",
              " 14,\n",
              " 22,\n",
              " 4,\n",
              " 1920,\n",
              " 4613,\n",
              " 469,\n",
              " 4,\n",
              " 22,\n",
              " 71,\n",
              " 87,\n",
              " 12,\n",
              " 16,\n",
              " 43,\n",
              " 530,\n",
              " 38,\n",
              " 76,\n",
              " 15,\n",
              " 13,\n",
              " 1247,\n",
              " 4,\n",
              " 22,\n",
              " 17,\n",
              " 515,\n",
              " 17,\n",
              " 12,\n",
              " 16,\n",
              " 626,\n",
              " 18,\n",
              " 2,\n",
              " 5,\n",
              " 62,\n",
              " 386,\n",
              " 12,\n",
              " 8,\n",
              " 316,\n",
              " 8,\n",
              " 106,\n",
              " 5,\n",
              " 4,\n",
              " 2223,\n",
              " 5244,\n",
              " 16,\n",
              " 480,\n",
              " 66,\n",
              " 3785,\n",
              " 33,\n",
              " 4,\n",
              " 130,\n",
              " 12,\n",
              " 16,\n",
              " 38,\n",
              " 619,\n",
              " 5,\n",
              " 25,\n",
              " 124,\n",
              " 51,\n",
              " 36,\n",
              " 135,\n",
              " 48,\n",
              " 25,\n",
              " 1415,\n",
              " 33,\n",
              " 6,\n",
              " 22,\n",
              " 12,\n",
              " 215,\n",
              " 28,\n",
              " 77,\n",
              " 52,\n",
              " 5,\n",
              " 14,\n",
              " 407,\n",
              " 16,\n",
              " 82,\n",
              " 2,\n",
              " 8,\n",
              " 4,\n",
              " 107,\n",
              " 117,\n",
              " 5952,\n",
              " 15,\n",
              " 256,\n",
              " 4,\n",
              " 2,\n",
              " 7,\n",
              " 3766,\n",
              " 5,\n",
              " 723,\n",
              " 36,\n",
              " 71,\n",
              " 43,\n",
              " 530,\n",
              " 476,\n",
              " 26,\n",
              " 400,\n",
              " 317,\n",
              " 46,\n",
              " 7,\n",
              " 4,\n",
              " 2,\n",
              " 1029,\n",
              " 13,\n",
              " 104,\n",
              " 88,\n",
              " 4,\n",
              " 381,\n",
              " 15,\n",
              " 297,\n",
              " 98,\n",
              " 32,\n",
              " 2071,\n",
              " 56,\n",
              " 26,\n",
              " 141,\n",
              " 6,\n",
              " 194,\n",
              " 7486,\n",
              " 18,\n",
              " 4,\n",
              " 226,\n",
              " 22,\n",
              " 21,\n",
              " 134,\n",
              " 476,\n",
              " 26,\n",
              " 480,\n",
              " 5,\n",
              " 144,\n",
              " 30,\n",
              " 5535,\n",
              " 18,\n",
              " 51,\n",
              " 36,\n",
              " 28,\n",
              " 224,\n",
              " 92,\n",
              " 25,\n",
              " 104,\n",
              " 4,\n",
              " 226,\n",
              " 65,\n",
              " 16,\n",
              " 38,\n",
              " 1334,\n",
              " 88,\n",
              " 12,\n",
              " 16,\n",
              " 283,\n",
              " 5,\n",
              " 16,\n",
              " 4472,\n",
              " 113,\n",
              " 103,\n",
              " 32,\n",
              " 15,\n",
              " 16,\n",
              " 5345,\n",
              " 19,\n",
              " 178,\n",
              " 32]"
            ]
          },
          "metadata": {
            "tags": []
          },
          "execution_count": 23
        }
      ]
    },
    {
      "cell_type": "code",
      "metadata": {
        "id": "PXy3U4DjECSr",
        "colab_type": "code",
        "colab": {
          "base_uri": "https://localhost:8080/",
          "height": 34
        },
        "outputId": "dd33978c-cd7b-4d73-a377-00e3a6597276"
      },
      "source": [
        "train_labels[0]"
      ],
      "execution_count": 24,
      "outputs": [
        {
          "output_type": "execute_result",
          "data": {
            "text/plain": [
              "1"
            ]
          },
          "metadata": {
            "tags": []
          },
          "execution_count": 24
        }
      ]
    },
    {
      "cell_type": "markdown",
      "metadata": {
        "id": "escBRmzXECSv",
        "colab_type": "text"
      },
      "source": [
        "- 자주 등장하는 단어 10,000개로 제한했기 때문에 단어 인덱스는 10,000을 넘지 않음"
      ]
    },
    {
      "cell_type": "code",
      "metadata": {
        "id": "wZpZZUGiECSv",
        "colab_type": "code",
        "colab": {
          "base_uri": "https://localhost:8080/",
          "height": 34
        },
        "outputId": "27352fbc-fd75-4926-cb96-8acae1e7d2d9"
      },
      "source": [
        "max([max(sequence) for sequence in train_data])"
      ],
      "execution_count": 25,
      "outputs": [
        {
          "output_type": "execute_result",
          "data": {
            "text/plain": [
              "9999"
            ]
          },
          "metadata": {
            "tags": []
          },
          "execution_count": 25
        }
      ]
    },
    {
      "cell_type": "markdown",
      "metadata": {
        "id": "f-lPLyx4ECSz",
        "colab_type": "text"
      },
      "source": [
        "- 리뷰 데이터 하나를 원래 영어 단어로 어떻게 바꾸는 과정"
      ]
    },
    {
      "cell_type": "code",
      "metadata": {
        "id": "-icY3WyDECS0",
        "colab_type": "code",
        "colab": {}
      },
      "source": [
        "# word_index는 단어와 정수 인덱스를 매핑한 딕셔너리입니다\n",
        "word_index = imdb.get_word_index()\n",
        "# 정수 인덱스와 단어를 매핑하도록 뒤집습니다\n",
        "reverse_word_index = dict([(value, key) for (key, value) in word_index.items()])\n",
        "# 리뷰를 디코딩합니다. \n",
        "# 0, 1, 2는 '패딩', '문서 시작', '사전에 없음'을 위한 인덱스이므로 3을 뺍니다\n",
        "decoded_review = ' '.join([reverse_word_index.get(i - 3, '?') for i in train_data[0]])"
      ],
      "execution_count": 26,
      "outputs": []
    },
    {
      "cell_type": "code",
      "metadata": {
        "id": "FeRrS0gOECS2",
        "colab_type": "code",
        "colab": {
          "base_uri": "https://localhost:8080/",
          "height": 178
        },
        "outputId": "43e2272c-0272-462c-fc06-17ced37f9a32"
      },
      "source": [
        "decoded_review"
      ],
      "execution_count": 27,
      "outputs": [
        {
          "output_type": "execute_result",
          "data": {
            "application/vnd.google.colaboratory.intrinsic+json": {
              "type": "string"
            },
            "text/plain": [
              "\"? this film was just brilliant casting location scenery story direction everyone's really suited the part they played and you could just imagine being there robert ? is an amazing actor and now the same being director ? father came from the same scottish island as myself so i loved the fact there was a real connection with this film the witty remarks throughout the film were great it was just brilliant so much that i bought the film as soon as it was released for ? and would recommend it to everyone to watch and the fly fishing was amazing really cried at the end it was so sad and you know what they say if you cry at a film it must have been good and this definitely was also ? to the two little boy's that played the ? of norman and paul they were just brilliant children are often left out of the ? list i think because the stars that play them all grown up are such a big profile for the whole film but these children are amazing and should be praised for what they have done don't you think the whole story was so lovely because it was true and was someone's life after all that was shared with us all\""
            ]
          },
          "metadata": {
            "tags": []
          },
          "execution_count": 27
        }
      ]
    },
    {
      "cell_type": "markdown",
      "metadata": {
        "id": "hOu9z0UtECS6",
        "colab_type": "text"
      },
      "source": [
        "## 데이터 준비\n",
        "\n",
        "신경망에 숫자 리스트를 주입할 수는 없습니다. 리스트를 텐서로 바꾸는 방법:\n",
        "\n",
        "- 같은 길이가 되도록 리스트에 패딩을 추가하고 `(samples, sequence_length)` 크기의 정수 텐서로 변환\n",
        "- 리스트를 원-핫 인코딩하여 0과 1의 벡터로 변환\n",
        "- 예를 들면 시퀀스 `[3, 5]`를 인덱스 3과 5의 위치는 1이고 그 외는 모두 0인 10,000차원의 벡터로 각각 변환\n",
        "- 그다음 부동 소수 벡터 데이터를 다룰 수 있는 `Dense` 층을 신경망의 첫 번째 층으로 사용\n",
        "\n",
        "이해를 돕기 위해 직접 데이터를 원-핫 벡터로 만들겠습니다:"
      ]
    },
    {
      "cell_type": "code",
      "metadata": {
        "id": "1uX4svmhECS7",
        "colab_type": "code",
        "colab": {}
      },
      "source": [
        "import numpy as np\n",
        "\n",
        "def vectorize_sequences(sequences, dimension=10000):\n",
        "    # 크기가 (len(sequences), dimension))이고 모든 원소가 0인 행렬을 만듭니다\n",
        "    results = np.zeros((len(sequences), dimension))\n",
        "    for i, sequence in enumerate(sequences):\n",
        "        results[i, sequence] = 1.  # results[i]에서 특정 인덱스의 위치를 1로 만듭니다\n",
        "    return results\n",
        "\n",
        "# 훈련 데이터를 벡터로 변환합니다\n",
        "x_train = vectorize_sequences(train_data)\n",
        "# 테스트 데이터를 벡터로 변환합니다\n",
        "x_test = vectorize_sequences(test_data)"
      ],
      "execution_count": 28,
      "outputs": []
    },
    {
      "cell_type": "markdown",
      "metadata": {
        "id": "RRpscTxhECS9",
        "colab_type": "text"
      },
      "source": [
        "샘플은 다음과 같이 나타남:"
      ]
    },
    {
      "cell_type": "code",
      "metadata": {
        "id": "NqQBT6A3ECS-",
        "colab_type": "code",
        "colab": {
          "base_uri": "https://localhost:8080/",
          "height": 34
        },
        "outputId": "589bbb0b-2161-4477-baac-6b054acdda7d"
      },
      "source": [
        "x_train[0]"
      ],
      "execution_count": 29,
      "outputs": [
        {
          "output_type": "execute_result",
          "data": {
            "text/plain": [
              "array([0., 1., 1., ..., 0., 0., 0.])"
            ]
          },
          "metadata": {
            "tags": []
          },
          "execution_count": 29
        }
      ]
    },
    {
      "cell_type": "markdown",
      "metadata": {
        "id": "sLG3Y7rxECTB",
        "colab_type": "text"
      },
      "source": [
        "레이블은 쉽게 벡터로 바꿀 수 있음:"
      ]
    },
    {
      "cell_type": "code",
      "metadata": {
        "id": "8O_JlZGPECTC",
        "colab_type": "code",
        "colab": {}
      },
      "source": [
        "# 레이블을 벡터로 바꿉니다\n",
        "y_train = np.asarray(train_labels).astype('float32')\n",
        "y_test = np.asarray(test_labels).astype('float32')"
      ],
      "execution_count": 30,
      "outputs": []
    },
    {
      "cell_type": "markdown",
      "metadata": {
        "id": "43kK_YsPECTF",
        "colab_type": "text"
      },
      "source": [
        "이제 신경망에 주입할 데이터가 준비"
      ]
    },
    {
      "cell_type": "markdown",
      "metadata": {
        "id": "Wp7KsWgnECTG",
        "colab_type": "text"
      },
      "source": [
        "## 신경망 모델 만들기\n",
        "\n",
        "* 16개의 은닉 유닛을 가진 두 개의 은닉층\n",
        "* 현재 리뷰의 감정을 스칼라 값의 예측으로 출력하는 세 번째 층\n",
        "\n",
        "- 중간에 있는 은닉층은 활성화 함수로 `relu`를 사용\n",
        "- 마지막 층은 확률(0과 1 사이의 점수로, 어떤 샘플이 타깃 '1'일 가능성이 높다는 것은 그 리뷰가 긍정일 가능성이 높다는 것을 의미합니다)을 출력하기 위해 시그모이드 활성화 함수를 사용\n"
      ]
    },
    {
      "cell_type": "markdown",
      "metadata": {
        "id": "ZfyOYeGaECTH",
        "colab_type": "text"
      },
      "source": [
        "![3-layer network](https://s3.amazonaws.com/book.keras.io/img/ch3/3_layer_network.png)"
      ]
    },
    {
      "cell_type": "code",
      "metadata": {
        "id": "PYdwr5R6ECTJ",
        "colab_type": "code",
        "colab": {}
      },
      "source": [
        "from keras import models\n",
        "from keras import layers\n",
        "\n",
        "model = models.Sequential()\n",
        "model.add(layers.Dense(16, activation='relu', input_shape=(10000,)))\n",
        "model.add(layers.Dense(16, activation='relu'))\n",
        "model.add(layers.Dense(1, activation='sigmoid'))"
      ],
      "execution_count": 31,
      "outputs": []
    },
    {
      "cell_type": "markdown",
      "metadata": {
        "id": "eqXMbF7nECTL",
        "colab_type": "text"
      },
      "source": [
        "손실 함수와 옵티마이저를 선택\n",
        "   - 이진 분류 문제이고 신경망의 출력이 확률이기 때문에(네트워크의 끝에 시그모이드 활성화 함수를 사용한 하나의 유닛으로 된 층을 놓았습니다), `binary_crossentropy` 손실이 적합\n",
        "\n",
        "다음은 `rmsprop` 옵티마이저와 `binary_crossentropy` 손실 함수로 모델을 설정\n",
        "   - 훈련하는 동안 정확도를 사용해 모니터링"
      ]
    },
    {
      "cell_type": "code",
      "metadata": {
        "id": "ejzUuLe5ECTN",
        "colab_type": "code",
        "colab": {}
      },
      "source": [
        "model.compile(optimizer='rmsprop',\n",
        "              loss='binary_crossentropy',\n",
        "              metrics=['accuracy'])"
      ],
      "execution_count": 32,
      "outputs": []
    },
    {
      "cell_type": "markdown",
      "metadata": {
        "id": "5XZKz8zaECTQ",
        "colab_type": "text"
      },
      "source": [
        "- 케라스에 `rmsprop`, `binary_crossentropy`, `accuracy`가 포함"
      ]
    },
    {
      "cell_type": "code",
      "metadata": {
        "id": "RXTPm7WAECTR",
        "colab_type": "code",
        "colab": {}
      },
      "source": [
        "from keras import optimizers\n",
        "\n",
        "model.compile(optimizer=optimizers.RMSprop(lr=0.001),\n",
        "              loss='binary_crossentropy',\n",
        "              metrics=['accuracy'])"
      ],
      "execution_count": 33,
      "outputs": []
    },
    {
      "cell_type": "code",
      "metadata": {
        "id": "Zc3Fm6giECTX",
        "colab_type": "code",
        "colab": {}
      },
      "source": [
        "from keras import losses\n",
        "from keras import metrics\n",
        "\n",
        "model.compile(optimizer=optimizers.RMSprop(lr=0.001),\n",
        "              loss=losses.binary_crossentropy,\n",
        "              metrics=[metrics.binary_accuracy])"
      ],
      "execution_count": 34,
      "outputs": []
    },
    {
      "cell_type": "code",
      "metadata": {
        "id": "BIB5VW9DECTa",
        "colab_type": "code",
        "colab": {}
      },
      "source": [
        "model.compile(optimizer='rmsprop',\n",
        "              loss='binary_crossentropy',\n",
        "              metrics=['accuracy'])"
      ],
      "execution_count": 35,
      "outputs": []
    },
    {
      "cell_type": "markdown",
      "metadata": {
        "id": "OODVEBG2ECTe",
        "colab_type": "text"
      },
      "source": [
        "## 훈련 검증\n",
        "\n",
        "훈련하는 동안 처음 본 데이터에 대한 모델의 정확도를 측정하기 위해서는 원본 훈련 데이터에서 10,000의 샘플을 떼어서 검증 세트를 만듦:"
      ]
    },
    {
      "cell_type": "code",
      "metadata": {
        "id": "4aA5gRkpECTf",
        "colab_type": "code",
        "colab": {}
      },
      "source": [
        "x_val = x_train[:10000]\n",
        "partial_x_train = x_train[10000:]\n",
        "\n",
        "y_val = y_train[:10000]\n",
        "partial_y_train = y_train[10000:]"
      ],
      "execution_count": 36,
      "outputs": []
    },
    {
      "cell_type": "markdown",
      "metadata": {
        "collapsed": true,
        "id": "Cvh88iY3ECTh",
        "colab_type": "text"
      },
      "source": [
        "- 모델을 512개 샘플씩 미니 배치를 만들어 20번의 에포크 동안 훈련\n",
        "   - `x_train`과 `y_train` 텐서에 있는 모든 샘플에 대해 20번 반복\n",
        "- 동시에 따로 떼어 놓은 10,000개의 샘플에서 손실과 정확도를 측정\n",
        "- `validation_data` 매개변수에 검증 데이터를 전달:"
      ]
    },
    {
      "cell_type": "code",
      "metadata": {
        "id": "MYV7YTZPECTi",
        "colab_type": "code",
        "colab": {
          "base_uri": "https://localhost:8080/",
          "height": 758
        },
        "outputId": "6ddae7ad-7e89-4d5d-cd74-72bc2f301726"
      },
      "source": [
        "history = model.fit(partial_x_train,\n",
        "                    partial_y_train,\n",
        "                    epochs=20,\n",
        "                    batch_size=512,\n",
        "                    validation_data=(x_val, y_val))"
      ],
      "execution_count": 37,
      "outputs": [
        {
          "output_type": "stream",
          "text": [
            "Train on 15000 samples, validate on 10000 samples\n",
            "Epoch 1/20\n",
            "15000/15000 [==============================] - 2s 106us/step - loss: 0.5179 - accuracy: 0.7790 - val_loss: 0.3943 - val_accuracy: 0.8710\n",
            "Epoch 2/20\n",
            "15000/15000 [==============================] - 1s 99us/step - loss: 0.3144 - accuracy: 0.9015 - val_loss: 0.3131 - val_accuracy: 0.8859\n",
            "Epoch 3/20\n",
            "15000/15000 [==============================] - 2s 100us/step - loss: 0.2304 - accuracy: 0.9279 - val_loss: 0.2811 - val_accuracy: 0.8900\n",
            "Epoch 4/20\n",
            "15000/15000 [==============================] - 1s 99us/step - loss: 0.1830 - accuracy: 0.9407 - val_loss: 0.2887 - val_accuracy: 0.8864\n",
            "Epoch 5/20\n",
            "15000/15000 [==============================] - 1s 100us/step - loss: 0.1477 - accuracy: 0.9521 - val_loss: 0.3182 - val_accuracy: 0.8753\n",
            "Epoch 6/20\n",
            "15000/15000 [==============================] - 1s 98us/step - loss: 0.1216 - accuracy: 0.9627 - val_loss: 0.2986 - val_accuracy: 0.8847\n",
            "Epoch 7/20\n",
            "15000/15000 [==============================] - 1s 99us/step - loss: 0.0999 - accuracy: 0.9695 - val_loss: 0.3401 - val_accuracy: 0.8756\n",
            "Epoch 8/20\n",
            "15000/15000 [==============================] - 1s 98us/step - loss: 0.0825 - accuracy: 0.9774 - val_loss: 0.3273 - val_accuracy: 0.8812\n",
            "Epoch 9/20\n",
            "15000/15000 [==============================] - 1s 97us/step - loss: 0.0681 - accuracy: 0.9821 - val_loss: 0.3499 - val_accuracy: 0.8795\n",
            "Epoch 10/20\n",
            "15000/15000 [==============================] - 1s 99us/step - loss: 0.0544 - accuracy: 0.9864 - val_loss: 0.4390 - val_accuracy: 0.8618\n",
            "Epoch 11/20\n",
            "15000/15000 [==============================] - 1s 97us/step - loss: 0.0453 - accuracy: 0.9901 - val_loss: 0.3987 - val_accuracy: 0.8773\n",
            "Epoch 12/20\n",
            "15000/15000 [==============================] - 1s 98us/step - loss: 0.0352 - accuracy: 0.9933 - val_loss: 0.4251 - val_accuracy: 0.8763\n",
            "Epoch 13/20\n",
            "15000/15000 [==============================] - 1s 98us/step - loss: 0.0274 - accuracy: 0.9952 - val_loss: 0.4601 - val_accuracy: 0.8747\n",
            "Epoch 14/20\n",
            "15000/15000 [==============================] - 1s 98us/step - loss: 0.0217 - accuracy: 0.9962 - val_loss: 0.5057 - val_accuracy: 0.8709\n",
            "Epoch 15/20\n",
            "15000/15000 [==============================] - 1s 100us/step - loss: 0.0183 - accuracy: 0.9970 - val_loss: 0.5204 - val_accuracy: 0.8724\n",
            "Epoch 16/20\n",
            "15000/15000 [==============================] - 2s 101us/step - loss: 0.0131 - accuracy: 0.9988 - val_loss: 0.5553 - val_accuracy: 0.8695\n",
            "Epoch 17/20\n",
            "15000/15000 [==============================] - 1s 100us/step - loss: 0.0109 - accuracy: 0.9985 - val_loss: 0.5825 - val_accuracy: 0.8691\n",
            "Epoch 18/20\n",
            "15000/15000 [==============================] - 1s 100us/step - loss: 0.0060 - accuracy: 0.9998 - val_loss: 0.7034 - val_accuracy: 0.8562\n",
            "Epoch 19/20\n",
            "15000/15000 [==============================] - 1s 99us/step - loss: 0.0080 - accuracy: 0.9989 - val_loss: 0.6571 - val_accuracy: 0.8662\n",
            "Epoch 20/20\n",
            "15000/15000 [==============================] - 1s 99us/step - loss: 0.0032 - accuracy: 0.9999 - val_loss: 0.7326 - val_accuracy: 0.8593\n"
          ],
          "name": "stdout"
        }
      ]
    },
    {
      "cell_type": "markdown",
      "metadata": {
        "id": "hQLfpUezECTl",
        "colab_type": "text"
      },
      "source": [
        "- `model.fit()` 메서드는 `History` 객체를 반환\n",
        "- 이 객체는 훈련하는 동안 발생한 모든 정보를 담고 있는 딕셔너리인 `history` 속성을 가지고 있음:"
      ]
    },
    {
      "cell_type": "code",
      "metadata": {
        "id": "nyYGnGpUECTm",
        "colab_type": "code",
        "colab": {
          "base_uri": "https://localhost:8080/",
          "height": 34
        },
        "outputId": "946981d3-4190-40b5-fba5-5815e86bf227"
      },
      "source": [
        "history_dict = history.history\n",
        "history_dict.keys()"
      ],
      "execution_count": 38,
      "outputs": [
        {
          "output_type": "execute_result",
          "data": {
            "text/plain": [
              "dict_keys(['val_loss', 'val_accuracy', 'loss', 'accuracy'])"
            ]
          },
          "metadata": {
            "tags": []
          },
          "execution_count": 38
        }
      ]
    },
    {
      "cell_type": "markdown",
      "metadata": {
        "id": "4qc1dSLGECTp",
        "colab_type": "text"
      },
      "source": [
        "- 이 딕셔너리는 훈련과 검증하는 동안 모니터링할 측정 지표당 하나씩 모두 네 개의 항목을 포함\n",
        "- 맷플롯립을 사용해 훈련과 검증 데이터에 대한 손실과 정확도 display:"
      ]
    },
    {
      "cell_type": "code",
      "metadata": {
        "id": "WaTZZqWpECTp",
        "colab_type": "code",
        "colab": {}
      },
      "source": [
        "import matplotlib.pyplot as plt"
      ],
      "execution_count": 39,
      "outputs": []
    },
    {
      "cell_type": "code",
      "metadata": {
        "id": "OT-hbiMZECTs",
        "colab_type": "code",
        "colab": {
          "base_uri": "https://localhost:8080/",
          "height": 295
        },
        "outputId": "02c4a1c6-4eb9-46b7-dcb1-ca77e7dfd26e"
      },
      "source": [
        "acc = history.history['accuracy']\n",
        "val_acc = history.history['val_accuracy']\n",
        "loss = history.history['loss']\n",
        "val_loss = history.history['val_loss']\n",
        "\n",
        "epochs = range(1, len(acc) + 1)\n",
        "\n",
        "# ‘bo’는 파란색 점을 의미합니다\n",
        "plt.plot(epochs, loss, 'bo', label='Training loss')\n",
        "# ‘b’는 파란색 실선을 의미합니다\n",
        "plt.plot(epochs, val_loss, 'b', label='Validation loss')\n",
        "plt.title('Training and validation loss')\n",
        "plt.xlabel('Epochs')\n",
        "plt.ylabel('Loss')\n",
        "plt.legend()\n",
        "\n",
        "plt.show()"
      ],
      "execution_count": 41,
      "outputs": [
        {
          "output_type": "display_data",
          "data": {
            "image/png": "[encoded data removed]",
            "text/plain": [
              "<Figure size 432x288 with 1 Axes>"
            ]
          },
          "metadata": {
            "tags": [],
            "needs_background": "light"
          }
        }
      ]
    },
    {
      "cell_type": "code",
      "metadata": {
        "id": "guCw2RgXECTv",
        "colab_type": "code",
        "colab": {
          "base_uri": "https://localhost:8080/",
          "height": 295
        },
        "outputId": "8d26357f-5ee2-46ee-9be6-ab4da76a55a6"
      },
      "source": [
        "plt.clf()   # 그래프를 초기화합니다\n",
        "acc = history_dict['accuracy']\n",
        "val_acc = history_dict['val_accuracy']\n",
        "\n",
        "plt.plot(epochs, acc, 'bo', label='Training acc')\n",
        "plt.plot(epochs, val_acc, 'b', label='Validation acc')\n",
        "plt.title('Training and validation accuracy')\n",
        "plt.xlabel('Epochs')\n",
        "plt.ylabel('Accuracy')\n",
        "plt.legend()\n",
        "\n",
        "plt.show()"
      ],
      "execution_count": 43,
      "outputs": [
        {
          "output_type": "display_data",
          "data": {
            "image/png": "[encoded data removed]",
            "text/plain": [
              "<Figure size 432x288 with 1 Axes>"
            ]
          },
          "metadata": {
            "tags": [],
            "needs_background": "light"
          }
        }
      ]
    },
    {
      "cell_type": "code",
      "metadata": {
        "id": "bm-4SIXQECTz",
        "colab_type": "code",
        "colab": {
          "base_uri": "https://localhost:8080/",
          "height": 175
        },
        "outputId": "0dea49e8-7a02-43fa-8391-1b47771fcec9"
      },
      "source": [
        "model = models.Sequential()\n",
        "model.add(layers.Dense(16, activation='relu', input_shape=(10000,)))\n",
        "model.add(layers.Dense(16, activation='relu'))\n",
        "model.add(layers.Dense(1, activation='sigmoid'))\n",
        "\n",
        "model.compile(optimizer='rmsprop',\n",
        "              loss='binary_crossentropy',\n",
        "              metrics=['accuracy'])\n",
        "\n",
        "model.fit(x_train, y_train, epochs=4, batch_size=512)\n",
        "results = model.evaluate(x_test, y_test)"
      ],
      "execution_count": 44,
      "outputs": [
        {
          "output_type": "stream",
          "text": [
            "Epoch 1/4\n",
            "25000/25000 [==============================] - 2s 64us/step - loss: 0.4753 - accuracy: 0.8177\n",
            "Epoch 2/4\n",
            "25000/25000 [==============================] - 2s 61us/step - loss: 0.2731 - accuracy: 0.9053\n",
            "Epoch 3/4\n",
            "25000/25000 [==============================] - 2s 60us/step - loss: 0.2069 - accuracy: 0.9262\n",
            "Epoch 4/4\n",
            "25000/25000 [==============================] - 2s 60us/step - loss: 0.1741 - accuracy: 0.9391\n",
            "25000/25000 [==============================] - 2s 80us/step\n"
          ],
          "name": "stdout"
        }
      ]
    },
    {
      "cell_type": "code",
      "metadata": {
        "id": "LKDT8j4LECT2",
        "colab_type": "code",
        "colab": {
          "base_uri": "https://localhost:8080/",
          "height": 34
        },
        "outputId": "e30d8626-297c-4940-9f26-3a35b5124783"
      },
      "source": [
        "results"
      ],
      "execution_count": 45,
      "outputs": [
        {
          "output_type": "execute_result",
          "data": {
            "text/plain": [
              "[0.29176088088035584, 0.883679986000061]"
            ]
          },
          "metadata": {
            "tags": []
          },
          "execution_count": 45
        }
      ]
    },
    {
      "cell_type": "markdown",
      "metadata": {
        "id": "RFs3q6zsECT5",
        "colab_type": "text"
      },
      "source": [
        "- 단순한 방식으로도 87%의 정확도를 달성"
      ]
    },
    {
      "cell_type": "markdown",
      "metadata": {
        "id": "BJ7yWJ16ECT7",
        "colab_type": "text"
      },
      "source": [
        "## 훈련된 모델로 새로운 데이터에 대해 예측하기"
      ]
    },
    {
      "cell_type": "code",
      "metadata": {
        "id": "V2ueU15lECT9",
        "colab_type": "code",
        "colab": {
          "base_uri": "https://localhost:8080/",
          "height": 140
        },
        "outputId": "197b784b-ab95-49c9-ab28-bc0a53250f71"
      },
      "source": [
        "model.predict(x_test)"
      ],
      "execution_count": 46,
      "outputs": [
        {
          "output_type": "execute_result",
          "data": {
            "text/plain": [
              "array([[0.2621952 ],\n",
              "       [0.999838  ],\n",
              "       [0.92757726],\n",
              "       ...,\n",
              "       [0.14652216],\n",
              "       [0.10122178],\n",
              "       [0.64667374]], dtype=float32)"
            ]
          },
          "metadata": {
            "tags": []
          },
          "execution_count": 46
        }
      ]
    },
    {
      "cell_type": "markdown",
      "metadata": {
        "id": "yAc3atWNECUB",
        "colab_type": "text"
      },
      "source": [
        "## 추가 실험\n",
        "\n",
        "* 여기에서는 두 개의 은닉층을 사용했습니다. 한 개 또는 세 개의 은닉층을 사용하고 검증과 테스트 정확도에 어떤 영향을 미치는지 확인해 보세요.\n",
        "* 층의 은닉 유닛을 추가하거나 줄여 보세요: 32개 유닛, 64개 유닛 등\n",
        "* `binary_crossentropy` 대신에 `mse` 손실 함수를 사용해 보세요.\n",
        "* `relu` 대신에 `tanh` 활성화 함수(초창기 신경망에서 인기 있었던 함수입니다)를 사용해 보세요.\n",
        "\n",
        "다음 실험을 진행하면 여기에서 선택한 구조가 향상의 여지는 있지만 어느 정도 납득할 만한 수준이라는 것을 알게 것입니다!"
      ]
    },
    {
      "cell_type": "markdown",
      "metadata": {
        "id": "Z90HlzE_ECUC",
        "colab_type": "text"
      },
      "source": [
        "## 정리\n",
        "\n",
        "다음은 이 예제에서 배운 것들입니다:\n",
        "\n",
        "* 원본 데이터를 신경망에 텐서로 주입하기 위해서는 꽤 많은 전처리가 필요합니다. 단어 시퀀스는 이진 벡터로 인코딩될 수 있고 다른 인코딩 방식도 있습니다.\n",
        "* `relu` 활성화 함수와 함께 `Dense` 층을 쌓은 네트워크는 (감성 분류를 포함하여) 여러 종류의 문제에 적용할 수 있어서 앞으로 자주 사용하게 될 것입니다.\n",
        "* (출력 클래스가 두 개인) 이진 분류 문제에서 네트워크는 하나의 유닛과 `sigmoid` 활성화 함수를 가진 `Dense` 층으로 끝나야 합니다. 이 신경망의 출력은 확률을 나타내는 0과 1 사이의 스칼라 값입니다.\n",
        "* 이진 분류 문제에서 이런 스칼라 시그모이드 출력에 대해 사용할 손실 함수는 `binary_crossentropy`입니다.\n",
        "* `rmsprop` 옵티마이저는 문제에 상관없이 일반적으로 충분히 좋은 선택입니다. 걱정할 거리가 하나 줄은 셈입니다.\n",
        "* 훈련 데이터에 대해 성능이 향상됨에 따라 신경망은 과대적합되기 시작하고 이전에 본적 없는 데이터에서는 결과가 점점 나빠지게 됩니다. 항상 훈련 세트 이외의 데이터에서 성능을 모니터링해야 합니다."
      ]
    }
  ]
}